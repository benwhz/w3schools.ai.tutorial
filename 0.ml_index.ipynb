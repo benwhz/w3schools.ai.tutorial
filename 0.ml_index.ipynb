{
 "cells": [
  {
   "cell_type": "markdown",
   "metadata": {},
   "source": [
    "<h2 style=\"text-align: center;\">机器学习教程</h2>\n",
    "\n",
    "\n",
    "**声明**：本教程主要内容来源于：https://www.w3schools.com/ai/default.asp | 版权归属于：w3schools。\n",
    "\n",
    "\n",
    "### 目录结构\n",
    "\n",
    "- <a href=\"./1.ml_intro.html\" target=\"_blank\">1. 概述</a>\n",
    "- <a href=\"./2.ml_and_ai.html\" target=\"_blank\">2. 人工智能</a>\n",
    "- <a href=\"./3.ml_linear_graphs.html\" target=\"_blank\">3. 线性图</a>\n",
    "- <a href=\"./4.ml_scatter_plots.html\" target=\"_blank\">4. 散点图</a>\n",
    "- <a href=\"./5.ml_perceptrons.html\" target=\"_blank\">5. 感知器</a>\n",
    "- <a href=\"./6.ml_recognition.html\" target=\"_blank\">6. 模式识别</a>\n",
    "- <a href=\"./7.ml_training.html\" target=\"_blank\">7. 训练感知器</a>\n",
    "- <a href=\"./8.ml_testing.html\" target=\"_blank\">8. 测试感知器</a>\n",
    "- <a href=\"./9.ml_learning.html\" target=\"_blank\">9. 机器学习过程</a>\n",
    "- <a href=\"./10.ml_terminology.html\" target=\"_blank\">10. 机器学习术语</a>\n",
    "- <a href=\"./11.ml_data.html\" target=\"_blank\">11. 机器学习中的数据</a>\n",
    "- <a href=\"./12.ml_hierarchical_clustering.html\" target=\"_blank\">12. 层次聚类</a>\n",
    "- <a href=\"./13.ml_polynomial_regression.html\" target=\"_blank\">13. 多项式回归</a>\n",
    "- <a href=\"./14.ml_deep_learning.html\" target=\"_blank\">14. 深度学习</a>\n",
    "\n",
    "本教程代码运行环境：\n",
    "- Python 3.11.1\n",
    "\n",
    "- numpy 1.25.0\n",
    "- matplotlib 3.9.0\n",
    "- scipy 1.11.1\n",
    "- scikit-learn 1.5.0\n",
    "\n",
    "> **说明**：原文以 JavaScript 语言为编程语言说明，译文用 Python 语言举例说明，部分章节内容因编程语言不同而略有删减和改写。"
   ]
  }
 ],
 "metadata": {
  "language_info": {
   "name": "python"
  }
 },
 "nbformat": 4,
 "nbformat_minor": 2
}
